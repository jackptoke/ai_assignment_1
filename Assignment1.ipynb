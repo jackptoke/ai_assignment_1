{
 "cells": [
  {
   "cell_type": "code",
   "execution_count": 3,
   "metadata": {
    "collapsed": true,
    "ExecuteTime": {
     "end_time": "2024-03-12T13:25:16.231096Z",
     "start_time": "2024-03-12T13:25:15.134439Z"
    }
   },
   "outputs": [
    {
     "name": "stdout",
     "output_type": "stream",
     "text": [
      "1 2 3 4 5 8 7 6 11 12 17 16 9 10 13 14 15 20 19 18 "
     ]
    }
   ],
   "source": [
    "// Global or class scope variables\n",
    "// n = number of nodes in the graph\n",
    "// g = adjacent list representing graph\n",
    "// visited = [false, ..., false] # size n\n",
    "\n",
    "//fun dfs(at) {\n",
    "// if visited[a] return;\n",
    "// visited[at] = true\n",
    "\n",
    "// neighbours = graph[at]\n",
    "// for next in neighbours:\n",
    "//      dfs(next)\n",
    "//}\n",
    "\n",
    "// start_node = x\n",
    "// dfs(start_node)\n",
    "\n",
    "val n = 20\n",
    "val target = 20\n",
    "val graph : HashMap<Int, List<Int>> = HashMap<Int, List<Int>>(n)\n",
    "graph.put(1, listOf(2))\n",
    "graph.put(2, listOf(3))\n",
    "graph.put(3, listOf(4, 8))\n",
    "graph.put(4, listOf(5))\n",
    "graph.put(5, listOf(4))\n",
    "graph.put(6, listOf(7, 11))\n",
    "graph.put(7, listOf(6, 8, 12))\n",
    "graph.put(8, listOf(7, 9, 13))\n",
    "graph.put(9, listOf(8, 10))\n",
    "graph.put(10, listOf(9))\n",
    "graph.put(11, listOf(6, 12, 16))\n",
    "graph.put(12, listOf(7, 11, 17))\n",
    "graph.put(13, listOf(8, 14, 18))\n",
    "graph.put(14, listOf(13, 15, 19))\n",
    "graph.put(15, listOf(14, 20))\n",
    "graph.put(16, listOf(11, 17))\n",
    "graph.put(17, listOf(12, 16))\n",
    "graph.put(18, listOf(13, 19))\n",
    "graph.put(19, listOf(14, 18, 20))\n",
    "graph.put(20, listOf(15, 19))\n",
    "\n",
    "\n",
    "val visited : HashMap<Int, Boolean> = HashMap<Int, Boolean>(n)\n",
    "for( i in 1..n) {\n",
    "    visited.put(i, false)\n",
    "}\n",
    "\n",
    "fun dfs(at: Int) {\n",
    "    if(visited.get(at) == true) \n",
    "        return\n",
    "    visited[at] = true\n",
    "    print(\"${at} \")\n",
    "    if(at == target) return\n",
    "    else {\n",
    "        val neighbours = graph.get(at).orEmpty()\n",
    "        for(next in neighbours){\n",
    "            dfs(next)\n",
    "        }\n",
    "    }    \n",
    "}\n",
    "\n",
    "dfs(1)\n",
    "\n",
    "\n",
    "\n"
   ]
  },
  {
   "cell_type": "code",
   "outputs": [],
   "source": [],
   "metadata": {
    "collapsed": false
   }
  }
 ],
 "metadata": {
  "kernelspec": {
   "display_name": "Kotlin",
   "language": "kotlin",
   "name": "kotlin"
  },
  "language_info": {
   "name": "kotlin",
   "version": "1.9.0",
   "mimetype": "text/x-kotlin",
   "file_extension": ".kt",
   "pygments_lexer": "kotlin",
   "codemirror_mode": "text/x-kotlin",
   "nbconvert_exporter": ""
  }
 },
 "nbformat": 4,
 "nbformat_minor": 0
}
